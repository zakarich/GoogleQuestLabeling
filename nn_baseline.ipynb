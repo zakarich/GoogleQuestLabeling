{
 "cells": [
  {
   "cell_type": "code",
   "execution_count": 1,
   "metadata": {
    "ExecuteTime": {
     "end_time": "2020-01-22T01:07:24.946958Z",
     "start_time": "2020-01-22T01:07:24.935147Z"
    }
   },
   "outputs": [],
   "source": [
    "import functions as func\n",
    "import pandas as pd\n",
    "import numpy as np\n",
    "import warnings\n",
    "warnings.filterwarnings(\"ignore\")"
   ]
  },
  {
   "cell_type": "code",
   "execution_count": null,
   "metadata": {
    "ExecuteTime": {
     "end_time": "2020-01-22T01:05:27.109859Z",
     "start_time": "2020-01-22T01:05:26.750385Z"
    }
   },
   "outputs": [],
   "source": [
    "# Preprocessing"
   ]
  },
  {
   "cell_type": "code",
   "execution_count": 2,
   "metadata": {
    "ExecuteTime": {
     "end_time": "2020-01-22T01:05:27.109859Z",
     "start_time": "2020-01-22T01:05:26.750385Z"
    }
   },
   "outputs": [],
   "source": [
    "#define the path were datasets existing\n",
    "path = 'data'\n",
    "\n",
    "df_dict = func.readCSV_DATA(path)"
   ]
  },
  {
   "cell_type": "code",
   "execution_count": 3,
   "metadata": {
    "ExecuteTime": {
     "end_time": "2020-01-22T01:05:27.885639Z",
     "start_time": "2020-01-22T01:05:27.634623Z"
    }
   },
   "outputs": [
    {
     "data": {
      "text/plain": [
       "0       What am I losing when using extension tubes in...\n",
       "1       What is the distinction between a city and a s...\n",
       "2       Maximum protusion length for through-hole comp...\n",
       "3       Can an affidavit be used in Beit Din?\\n\\nAn af...\n",
       "4       How do you make a binary image in Photoshop?\\n...\n",
       "                              ...                        \n",
       "6074    Using a ski helmet for winter biking\\n\\nI am c...\n",
       "6075    Adjustment to road bike brakes for high grade ...\n",
       "6076    Suppress 'file truncated' messages when using ...\n",
       "6077    When should a supervisor be a co-author?\\n\\nWh...\n",
       "6078    Why are there so many different types of screw...\n",
       "Name: text_concat_filter, Length: 6079, dtype: object"
      ]
     },
     "execution_count": 3,
     "metadata": {},
     "output_type": "execute_result"
    }
   ],
   "source": [
    "df_train = df_dict['train.csv']\n",
    "df_train = func.prepareData(df_train)\n",
    "df_train['text_concat_filter']"
   ]
  },
  {
   "cell_type": "code",
   "execution_count": 4,
   "metadata": {
    "ExecuteTime": {
     "end_time": "2020-01-22T01:06:42.893189Z",
     "start_time": "2020-01-22T01:06:42.381115Z"
    }
   },
   "outputs": [],
   "source": [
    "# Extracting simple text features\n",
    "from nltk.tokenize import word_tokenize\n",
    "from sklearn.feature_extraction.text import TfidfVectorizer\n",
    "from sklearn.model_selection import train_test_split"
   ]
  },
  {
   "cell_type": "code",
   "execution_count": null,
   "metadata": {
    "ExecuteTime": {
     "end_time": "2020-01-22T01:06:58.618815Z",
     "start_time": "2020-01-22T01:06:43.519531Z"
    }
   },
   "outputs": [],
   "source": [
    "\n",
    "vectorizer = TfidfVectorizer(tokenizer=word_tokenize,\n",
    "                             strip_accents='ascii',\n",
    "                             stop_words='english',\n",
    "                             min_df = 3,\n",
    "                             max_df = int(df_train.shape[0]/30))\n",
    "X = vectorizer.fit_transform(df_train['text_concat_filter'])\n",
    "df_train.head()"
   ]
  },
  {
   "cell_type": "code",
   "execution_count": null,
   "metadata": {
    "ExecuteTime": {
     "end_time": "2020-01-22T01:07:39.558356Z",
     "start_time": "2020-01-22T01:07:39.541430Z"
    }
   },
   "outputs": [],
   "source": [
    "y = df_train.iloc[:,11:41]"
   ]
  },
  {
   "cell_type": "code",
   "execution_count": null,
   "metadata": {
    "ExecuteTime": {
     "end_time": "2020-01-22T01:07:44.346268Z",
     "start_time": "2020-01-22T01:07:44.327797Z"
    }
   },
   "outputs": [],
   "source": [
    "X_train, X_test, y_train, y_test = train_test_split(X, y, test_size=0.15)"
   ]
  },
  {
   "cell_type": "markdown",
   "metadata": {},
   "source": [
    "# Train a Linear Regression in NN format"
   ]
  },
  {
   "cell_type": "code",
   "execution_count": null,
   "metadata": {
    "ExecuteTime": {
     "end_time": "2020-01-22T01:11:57.659874Z",
     "start_time": "2020-01-22T01:11:53.460849Z"
    }
   },
   "outputs": [],
   "source": [
    "from tensorflow.keras.models import Sequential \n",
    "from tensorflow.keras.layers import Dense, Activation"
   ]
  },
  {
   "cell_type": "code",
   "execution_count": null,
   "metadata": {
    "ExecuteTime": {
     "end_time": "2020-01-22T01:11:58.862865Z",
     "start_time": "2020-01-22T01:11:58.561707Z"
    }
   },
   "outputs": [],
   "source": [
    "X_train, X_test, y_train, y_test = X_train.toarray(), X_test.toarray(), y_train.as_matrix(), y_test.as_matrix()"
   ]
  },
  {
   "cell_type": "markdown",
   "metadata": {},
   "source": [
    "## Create model"
   ]
  },
  {
   "cell_type": "code",
   "execution_count": null,
   "metadata": {
    "ExecuteTime": {
     "end_time": "2020-01-22T01:12:00.371923Z",
     "start_time": "2020-01-22T01:12:00.052017Z"
    }
   },
   "outputs": [],
   "source": [
    "output_dim = y.shape[1]\n",
    "input_dim  = len(vectorizer.vocabulary_)\n",
    "\n",
    "model = Sequential() \n",
    "model.add(Dense(output_dim, input_dim=input_dim, activation='sigmoid')) \n",
    "\n",
    "batch_size = 128\n",
    "nb_epoch = 20"
   ]
  },
  {
   "cell_type": "code",
   "execution_count": null,
   "metadata": {
    "ExecuteTime": {
     "end_time": "2020-01-22T01:12:18.677752Z",
     "start_time": "2020-01-22T01:12:07.987408Z"
    }
   },
   "outputs": [],
   "source": [
    "model.compile(optimizer='adam', loss='mse', metrics=['mse'])\n",
    "\n",
    "history = model.fit(X_train, y_train,\n",
    "                    batch_size=batch_size,\n",
    "                    epochs=nb_epoch,\n",
    "                    verbose=1,\n",
    "                    validation_data = (X_test, y_test)) "
   ]
  },
  {
   "cell_type": "markdown",
   "metadata": {},
   "source": [
    "## Evaluate"
   ]
  },
  {
   "cell_type": "code",
   "execution_count": null,
   "metadata": {
    "ExecuteTime": {
     "end_time": "2020-01-22T01:12:33.519694Z",
     "start_time": "2020-01-22T01:12:32.679673Z"
    }
   },
   "outputs": [],
   "source": [
    "print(\"MSE\")\n",
    "print(\"Training: %.2f\" % model.evaluate(X_train, y_train, verbose=0)[1])\n",
    "print(\"Testing : %.2f\" % model.evaluate(X_test, y_test, verbose=0)[1])"
   ]
  },
  {
   "cell_type": "code",
   "execution_count": null,
   "metadata": {
    "ExecuteTime": {
     "end_time": "2020-01-22T01:12:37.775422Z",
     "start_time": "2020-01-22T01:12:36.950430Z"
    }
   },
   "outputs": [],
   "source": [
    "y_hat_train = model.predict(X_train)\n",
    "y_hat_test = model.predict(X_test)"
   ]
  },
  {
   "cell_type": "code",
   "execution_count": null,
   "metadata": {
    "ExecuteTime": {
     "end_time": "2020-01-22T01:12:41.587922Z",
     "start_time": "2020-01-22T01:12:39.535583Z"
    }
   },
   "outputs": [],
   "source": [
    "from scipy.stats import spearmanr\n",
    "\n",
    "spears_train = []\n",
    "spears_test = []\n",
    "\n",
    "for i in range(y.shape[1]):  \n",
    "    spears_test.append(spearmanr(y_hat_test[:,i], y_test[:,i]))\n",
    "    spears_train.append(spearmanr(y_hat_train[:,i], y_train[:,i]))"
   ]
  },
  {
   "cell_type": "code",
   "execution_count": null,
   "metadata": {
    "ExecuteTime": {
     "end_time": "2020-01-22T01:12:43.443906Z",
     "start_time": "2020-01-22T01:12:43.424584Z"
    }
   },
   "outputs": [],
   "source": [
    "print('Spearman Correlation')\n",
    "print(\"Training: %.2f\" % np.mean([i.correlation for i in spears_train if ~np.isnan(i.correlation)]))\n",
    "print(\"Testing : %.2f\" % np.mean([i.correlation for i in spears_test if ~np.isnan(i.correlation)]))"
   ]
  },
  {
   "cell_type": "markdown",
   "metadata": {},
   "source": [
    "# Submission"
   ]
  },
  {
   "cell_type": "code",
   "execution_count": null,
   "metadata": {
    "ExecuteTime": {
     "end_time": "2020-01-22T01:13:46.699330Z",
     "start_time": "2020-01-22T01:13:46.686068Z"
    }
   },
   "outputs": [],
   "source": [
    "sub = df_dict['sample_submission.csv']\n",
    "df_test = df_dict['test.csv']"
   ]
  },
  {
   "cell_type": "code",
   "execution_count": null,
   "metadata": {
    "ExecuteTime": {
     "end_time": "2020-01-22T01:15:21.473560Z",
     "start_time": "2020-01-22T01:15:20.386344Z"
    }
   },
   "outputs": [],
   "source": [
    "df_test = func.prepareData(df_test)\n",
    "\n",
    "X_test = vectorizer.transform(df_test['text_concat_filter'])"
   ]
  },
  {
   "cell_type": "code",
   "execution_count": null,
   "metadata": {
    "ExecuteTime": {
     "end_time": "2020-01-22T01:15:25.871672Z",
     "start_time": "2020-01-22T01:15:25.743455Z"
    }
   },
   "outputs": [],
   "source": [
    "y_hat_test = model.predict(X_test.toarray())"
   ]
  },
  {
   "cell_type": "code",
   "execution_count": null,
   "metadata": {
    "ExecuteTime": {
     "end_time": "2020-01-22T01:15:27.090416Z",
     "start_time": "2020-01-22T01:15:26.833769Z"
    }
   },
   "outputs": [],
   "source": [
    "for col_index, col in enumerate(y.columns.tolist()):\n",
    "    sub[col] = y_hat_test[:, col_index]"
   ]
  },
  {
   "cell_type": "code",
   "execution_count": null,
   "metadata": {
    "ExecuteTime": {
     "end_time": "2020-01-22T01:15:28.151601Z",
     "start_time": "2020-01-22T01:15:27.834482Z"
    }
   },
   "outputs": [],
   "source": [
    "sub.head()"
   ]
  },
  {
   "cell_type": "code",
   "execution_count": null,
   "metadata": {
    "ExecuteTime": {
     "end_time": "2020-01-22T01:15:36.399300Z",
     "start_time": "2020-01-22T01:15:35.452011Z"
    }
   },
   "outputs": [],
   "source": [
    "sub.to_csv(\"submission.csv\", index = False)"
   ]
  },
  {
   "cell_type": "code",
   "execution_count": null,
   "metadata": {},
   "outputs": [],
   "source": []
  },
  {
   "cell_type": "code",
   "execution_count": null,
   "metadata": {},
   "outputs": [],
   "source": []
  }
 ],
 "metadata": {
  "kernelspec": {
   "display_name": "Python 3",
   "language": "python",
   "name": "python3"
  },
  "language_info": {
   "codemirror_mode": {
    "name": "ipython",
    "version": 3
   },
   "file_extension": ".py",
   "mimetype": "text/x-python",
   "name": "python",
   "nbconvert_exporter": "python",
   "pygments_lexer": "ipython3",
   "version": "3.7.4"
  },
  "varInspector": {
   "cols": {
    "lenName": 16,
    "lenType": 16,
    "lenVar": 40
   },
   "kernels_config": {
    "python": {
     "delete_cmd_postfix": "",
     "delete_cmd_prefix": "del ",
     "library": "var_list.py",
     "varRefreshCmd": "print(var_dic_list())"
    },
    "r": {
     "delete_cmd_postfix": ") ",
     "delete_cmd_prefix": "rm(",
     "library": "var_list.r",
     "varRefreshCmd": "cat(var_dic_list()) "
    }
   },
   "types_to_exclude": [
    "module",
    "function",
    "builtin_function_or_method",
    "instance",
    "_Feature"
   ],
   "window_display": false
  }
 },
 "nbformat": 4,
 "nbformat_minor": 4
}
